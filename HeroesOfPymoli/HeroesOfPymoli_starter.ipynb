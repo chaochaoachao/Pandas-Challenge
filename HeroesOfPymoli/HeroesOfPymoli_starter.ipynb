{
 "cells": [
  {
   "cell_type": "markdown",
   "metadata": {},
   "source": [
    "### Note\n",
    "* Instructions have been included for each segment. You do not have to follow them exactly, but they are included to help you think through the steps."
   ]
  },
  {
   "cell_type": "code",
   "execution_count": 1,
   "metadata": {
    "scrolled": true
   },
   "outputs": [
    {
     "data": {
      "text/html": [
       "<div>\n",
       "<style scoped>\n",
       "    .dataframe tbody tr th:only-of-type {\n",
       "        vertical-align: middle;\n",
       "    }\n",
       "\n",
       "    .dataframe tbody tr th {\n",
       "        vertical-align: top;\n",
       "    }\n",
       "\n",
       "    .dataframe thead th {\n",
       "        text-align: right;\n",
       "    }\n",
       "</style>\n",
       "<table border=\"1\" class=\"dataframe\">\n",
       "  <thead>\n",
       "    <tr style=\"text-align: right;\">\n",
       "      <th></th>\n",
       "      <th>Purchase ID</th>\n",
       "      <th>SN</th>\n",
       "      <th>Age</th>\n",
       "      <th>Gender</th>\n",
       "      <th>Item ID</th>\n",
       "      <th>Item Name</th>\n",
       "      <th>Price</th>\n",
       "    </tr>\n",
       "  </thead>\n",
       "  <tbody>\n",
       "    <tr>\n",
       "      <th>0</th>\n",
       "      <td>0</td>\n",
       "      <td>Lisim78</td>\n",
       "      <td>20</td>\n",
       "      <td>Male</td>\n",
       "      <td>108</td>\n",
       "      <td>Extraction, Quickblade Of Trembling Hands</td>\n",
       "      <td>3.53</td>\n",
       "    </tr>\n",
       "    <tr>\n",
       "      <th>1</th>\n",
       "      <td>1</td>\n",
       "      <td>Lisovynya38</td>\n",
       "      <td>40</td>\n",
       "      <td>Male</td>\n",
       "      <td>143</td>\n",
       "      <td>Frenzied Scimitar</td>\n",
       "      <td>1.56</td>\n",
       "    </tr>\n",
       "    <tr>\n",
       "      <th>2</th>\n",
       "      <td>2</td>\n",
       "      <td>Ithergue48</td>\n",
       "      <td>24</td>\n",
       "      <td>Male</td>\n",
       "      <td>92</td>\n",
       "      <td>Final Critic</td>\n",
       "      <td>4.88</td>\n",
       "    </tr>\n",
       "    <tr>\n",
       "      <th>3</th>\n",
       "      <td>3</td>\n",
       "      <td>Chamassasya86</td>\n",
       "      <td>24</td>\n",
       "      <td>Male</td>\n",
       "      <td>100</td>\n",
       "      <td>Blindscythe</td>\n",
       "      <td>3.27</td>\n",
       "    </tr>\n",
       "    <tr>\n",
       "      <th>4</th>\n",
       "      <td>4</td>\n",
       "      <td>Iskosia90</td>\n",
       "      <td>23</td>\n",
       "      <td>Male</td>\n",
       "      <td>131</td>\n",
       "      <td>Fury</td>\n",
       "      <td>1.44</td>\n",
       "    </tr>\n",
       "  </tbody>\n",
       "</table>\n",
       "</div>"
      ],
      "text/plain": [
       "   Purchase ID             SN  Age Gender  Item ID  \\\n",
       "0            0        Lisim78   20   Male      108   \n",
       "1            1    Lisovynya38   40   Male      143   \n",
       "2            2     Ithergue48   24   Male       92   \n",
       "3            3  Chamassasya86   24   Male      100   \n",
       "4            4      Iskosia90   23   Male      131   \n",
       "\n",
       "                                   Item Name  Price  \n",
       "0  Extraction, Quickblade Of Trembling Hands   3.53  \n",
       "1                          Frenzied Scimitar   1.56  \n",
       "2                               Final Critic   4.88  \n",
       "3                                Blindscythe   3.27  \n",
       "4                                       Fury   1.44  "
      ]
     },
     "execution_count": 1,
     "metadata": {},
     "output_type": "execute_result"
    }
   ],
   "source": [
    "# Dependencies and Setup\n",
    "%matplotlib notebook\n",
    "import pandas as pd\n",
    "import numpy\n",
    "import matplotlib.pyplot as plt\n",
    "%matplotlib inline \n",
    "plt.rcParams['font.size'] = 20\n",
    "import seaborn as sns\n",
    "sns.set(color_codes=True)\n",
    "from sklearn import linear_model\n",
    "from sklearn.model_selection import train_test_split\n",
    "\n",
    "\n",
    "# File to Load (Remember to Change These)\n",
    "file_to_load = \"Resources/purchase_data.csv\"\n",
    "\n",
    "# Read Purchasing File and store into Pandas data frame\n",
    "purchase_data = pd.read_csv(file_to_load)\n",
    "purchase_data.head()"
   ]
  },
  {
   "cell_type": "markdown",
   "metadata": {},
   "source": [
    "## Player Count"
   ]
  },
  {
   "cell_type": "markdown",
   "metadata": {},
   "source": [
    "* Display the total number of players\n"
   ]
  },
  {
   "cell_type": "code",
   "execution_count": 2,
   "metadata": {},
   "outputs": [
    {
     "data": {
      "text/html": [
       "<div>\n",
       "<style scoped>\n",
       "    .dataframe tbody tr th:only-of-type {\n",
       "        vertical-align: middle;\n",
       "    }\n",
       "\n",
       "    .dataframe tbody tr th {\n",
       "        vertical-align: top;\n",
       "    }\n",
       "\n",
       "    .dataframe thead th {\n",
       "        text-align: right;\n",
       "    }\n",
       "</style>\n",
       "<table border=\"1\" class=\"dataframe\">\n",
       "  <thead>\n",
       "    <tr style=\"text-align: right;\">\n",
       "      <th></th>\n",
       "      <th>Total Players</th>\n",
       "    </tr>\n",
       "  </thead>\n",
       "  <tbody>\n",
       "    <tr>\n",
       "      <th>0</th>\n",
       "      <td>576</td>\n",
       "    </tr>\n",
       "  </tbody>\n",
       "</table>\n",
       "</div>"
      ],
      "text/plain": [
       "   Total Players\n",
       "0            576"
      ]
     },
     "execution_count": 2,
     "metadata": {},
     "output_type": "execute_result"
    }
   ],
   "source": [
    "Total_players={\"Total Players\":[len(purchase_data[\"SN\"].unique())]}\n",
    "df=pd.DataFrame(data=Total_players)\n",
    "df"
   ]
  },
  {
   "cell_type": "markdown",
   "metadata": {},
   "source": [
    "## Purchasing Analysis (Total)"
   ]
  },
  {
   "cell_type": "markdown",
   "metadata": {},
   "source": [
    "* Run basic calculations to obtain number of unique items, average price, etc.\n",
    "\n",
    "\n",
    "* Create a summary data frame to hold the results\n",
    "\n",
    "\n",
    "* Optional: give the displayed data cleaner formatting\n",
    "\n",
    "\n",
    "* Display the summary data frame\n"
   ]
  },
  {
   "cell_type": "code",
   "execution_count": 3,
   "metadata": {
    "scrolled": false
   },
   "outputs": [
    {
     "data": {
      "text/html": [
       "<div>\n",
       "<style scoped>\n",
       "    .dataframe tbody tr th:only-of-type {\n",
       "        vertical-align: middle;\n",
       "    }\n",
       "\n",
       "    .dataframe tbody tr th {\n",
       "        vertical-align: top;\n",
       "    }\n",
       "\n",
       "    .dataframe thead th {\n",
       "        text-align: right;\n",
       "    }\n",
       "</style>\n",
       "<table border=\"1\" class=\"dataframe\">\n",
       "  <thead>\n",
       "    <tr style=\"text-align: right;\">\n",
       "      <th></th>\n",
       "      <th>Number of Unique Items</th>\n",
       "      <th>Average Price</th>\n",
       "      <th>Number of Purchases</th>\n",
       "      <th>Total Revenue</th>\n",
       "    </tr>\n",
       "  </thead>\n",
       "  <tbody>\n",
       "    <tr>\n",
       "      <th>0</th>\n",
       "      <td>183</td>\n",
       "      <td>$3.05</td>\n",
       "      <td>780</td>\n",
       "      <td>$2,379.77</td>\n",
       "    </tr>\n",
       "  </tbody>\n",
       "</table>\n",
       "</div>"
      ],
      "text/plain": [
       "   Number of Unique Items Average Price  Number of Purchases Total Revenue\n",
       "0                     183         $3.05                  780     $2,379.77"
      ]
     },
     "execution_count": 3,
     "metadata": {},
     "output_type": "execute_result"
    }
   ],
   "source": [
    "Number_Unique_Item=len(purchase_data[\"Item ID\"].unique())\n",
    "Average_Price=\"$\"+str(round(purchase_data[\"Price\"].mean(),2))\n",
    "Number_Purchases=len(purchase_data[\"Purchase ID\"])\n",
    "Total_Revenue=purchase_data[\"Price\"].sum()\n",
    "summary = {\"Number of Unique Items\":[Number_Unique_Item],'Average Price':[Average_Price],\n",
    "              \"Number of Purchases\":[Number_Purchases],'Total Revenue':[Total_Revenue]}\n",
    "Purchasing_Analysis=pd.DataFrame(summary)\n",
    "Purchasing_Analysis[\"Total Revenue\"]=Purchasing_Analysis[\"Total Revenue\"].map('${:,.2f}'.format)\n",
    "Purchasing_Analysis\n",
    "#print(Number_Unique_Item,Average_Price,Number_Purchases,Total_Revenue)\n"
   ]
  },
  {
   "cell_type": "markdown",
   "metadata": {},
   "source": [
    "## Gender Demographics"
   ]
  },
  {
   "cell_type": "markdown",
   "metadata": {},
   "source": [
    "* Percentage and Count of Male Players\n",
    "\n",
    "\n",
    "* Percentage and Count of Female Players\n",
    "\n",
    "\n",
    "* Percentage and Count of Other / Non-Disclosed\n",
    "\n",
    "\n"
   ]
  },
  {
   "cell_type": "code",
   "execution_count": 4,
   "metadata": {
    "scrolled": true
   },
   "outputs": [
    {
     "data": {
      "text/html": [
       "<div>\n",
       "<style scoped>\n",
       "    .dataframe tbody tr th:only-of-type {\n",
       "        vertical-align: middle;\n",
       "    }\n",
       "\n",
       "    .dataframe tbody tr th {\n",
       "        vertical-align: top;\n",
       "    }\n",
       "\n",
       "    .dataframe thead th {\n",
       "        text-align: right;\n",
       "    }\n",
       "</style>\n",
       "<table border=\"1\" class=\"dataframe\">\n",
       "  <thead>\n",
       "    <tr style=\"text-align: right;\">\n",
       "      <th></th>\n",
       "      <th>counts</th>\n",
       "      <th>percentage</th>\n",
       "    </tr>\n",
       "  </thead>\n",
       "  <tbody>\n",
       "    <tr>\n",
       "      <th>Male</th>\n",
       "      <td>484</td>\n",
       "      <td>84.03%</td>\n",
       "    </tr>\n",
       "    <tr>\n",
       "      <th>Female</th>\n",
       "      <td>81</td>\n",
       "      <td>14.06%</td>\n",
       "    </tr>\n",
       "    <tr>\n",
       "      <th>Other / Non-Disclosed</th>\n",
       "      <td>11</td>\n",
       "      <td>1.91%</td>\n",
       "    </tr>\n",
       "  </tbody>\n",
       "</table>\n",
       "</div>"
      ],
      "text/plain": [
       "                       counts percentage\n",
       "Male                      484     84.03%\n",
       "Female                     81     14.06%\n",
       "Other / Non-Disclosed      11      1.91%"
      ]
     },
     "execution_count": 4,
     "metadata": {},
     "output_type": "execute_result"
    }
   ],
   "source": [
    "#by drop duplicate ids\n",
    "id_unique_df=purchase_data.drop_duplicates(\"SN\")\n",
    "counts=id_unique_df[\"Gender\"].value_counts()\n",
    "percentage=id_unique_df[\"Gender\"].value_counts(normalize=True).mul(100).round(2).astype(str)+\"%\"\n",
    "id_df=pd.DataFrame({'counts':counts,'percentage':percentage})\n",
    "id_df"
   ]
  },
  {
   "cell_type": "code",
   "execution_count": 5,
   "metadata": {},
   "outputs": [
    {
     "data": {
      "text/plain": [
       "<matplotlib.legend.Legend at 0x1abcf0b3908>"
      ]
     },
     "execution_count": 5,
     "metadata": {},
     "output_type": "execute_result"
    },
    {
     "data": {
      "image/png": "[encoded data removed]",
      "text/plain": [
       "<Figure size 432x288 with 1 Axes>"
      ]
     },
     "metadata": {},
     "output_type": "display_data"
    }
   ],
   "source": [
    "id_df.plot(kind=\"pie\",y=\"counts\", autopct='%1.2f%%',pctdistance=0.8).legend(bbox_to_anchor=(0.75, 0.9))"
   ]
  },
  {
   "cell_type": "code",
   "execution_count": null,
   "metadata": {},
   "outputs": [],
   "source": []
  },
  {
   "cell_type": "markdown",
   "metadata": {},
   "source": [
    "\n",
    "## Purchasing Analysis (Gender)"
   ]
  },
  {
   "cell_type": "markdown",
   "metadata": {},
   "source": [
    "* Run basic calculations to obtain purchase count, avg. purchase price, avg. purchase total per person etc. by gender\n",
    "\n",
    "\n",
    "\n",
    "\n",
    "* Create a summary data frame to hold the results\n",
    "\n",
    "\n",
    "* Optional: give the displayed data cleaner formatting\n",
    "\n",
    "\n",
    "* Display the summary data frame"
   ]
  },
  {
   "cell_type": "code",
   "execution_count": 6,
   "metadata": {},
   "outputs": [
    {
     "data": {
      "text/html": [
       "<div>\n",
       "<style scoped>\n",
       "    .dataframe tbody tr th:only-of-type {\n",
       "        vertical-align: middle;\n",
       "    }\n",
       "\n",
       "    .dataframe tbody tr th {\n",
       "        vertical-align: top;\n",
       "    }\n",
       "\n",
       "    .dataframe thead th {\n",
       "        text-align: right;\n",
       "    }\n",
       "</style>\n",
       "<table border=\"1\" class=\"dataframe\">\n",
       "  <thead>\n",
       "    <tr style=\"text-align: right;\">\n",
       "      <th></th>\n",
       "      <th>Purchase Count</th>\n",
       "      <th>Average Purchase Price</th>\n",
       "      <th>Total Purchase Value</th>\n",
       "      <th>Avg Total Purchase perPerson</th>\n",
       "    </tr>\n",
       "  </thead>\n",
       "  <tbody>\n",
       "    <tr>\n",
       "      <th>Female</th>\n",
       "      <td>113</td>\n",
       "      <td>$3.20</td>\n",
       "      <td>$361.94</td>\n",
       "      <td>$4.47</td>\n",
       "    </tr>\n",
       "    <tr>\n",
       "      <th>Male</th>\n",
       "      <td>652</td>\n",
       "      <td>$3.02</td>\n",
       "      <td>$1,967.64</td>\n",
       "      <td>$4.07</td>\n",
       "    </tr>\n",
       "    <tr>\n",
       "      <th>Other / Non-Disclosed</th>\n",
       "      <td>15</td>\n",
       "      <td>$3.35</td>\n",
       "      <td>$50.19</td>\n",
       "      <td>$4.56</td>\n",
       "    </tr>\n",
       "  </tbody>\n",
       "</table>\n",
       "</div>"
      ],
      "text/plain": [
       "                       Purchase Count Average Purchase Price  \\\n",
       "Female                            113                  $3.20   \n",
       "Male                              652                  $3.02   \n",
       "Other / Non-Disclosed              15                  $3.35   \n",
       "\n",
       "                      Total Purchase Value Avg Total Purchase perPerson  \n",
       "Female                             $361.94                        $4.47  \n",
       "Male                             $1,967.64                        $4.07  \n",
       "Other / Non-Disclosed               $50.19                        $4.56  "
      ]
     },
     "execution_count": 6,
     "metadata": {},
     "output_type": "execute_result"
    }
   ],
   "source": [
    "#calculations\n",
    "Purchase_Count=purchase_data[\"Gender\"].value_counts()\n",
    "average_purchase_price=purchase_data.groupby(\"Gender\").mean().round(2)\n",
    "total_Purchase_Value=purchase_data.groupby(\"Gender\").sum().round(2)\n",
    "Avg_Total_Purchase_per_Person=(total_Purchase_Value[\"Price\"]/id_df[\"counts\"]).round(2)\n",
    "\n",
    "#Create a dataframe\n",
    "Purchasing_Analysis=pd.DataFrame({\"Purchase Count\":Purchase_Count,\n",
    "                                 \"Average Purchase Price\":average_purchase_price[\"Price\"],\n",
    "                                \"Total Purchase Value\":total_Purchase_Value[\"Price\"],\n",
    "                                 \"Avg Total Purchase perPerson\":Avg_Total_Purchase_per_Person\n",
    "                                })\n",
    "Purchasing_Analysis[\"Average Purchase Price\"]=Purchasing_Analysis[\"Average Purchase Price\"].map('${:,.2f}'.format)\n",
    "Purchasing_Analysis[\"Total Purchase Value\"]=Purchasing_Analysis[\"Total Purchase Value\"].map('${:,.2f}'.format)\n",
    "Purchasing_Analysis[\"Avg Total Purchase perPerson\"]=Purchasing_Analysis[\"Avg Total Purchase perPerson\"].map('${:,.2f}'.format)\n",
    "Purchasing_Analysis"
   ]
  },
  {
   "cell_type": "code",
   "execution_count": 7,
   "metadata": {},
   "outputs": [
    {
     "data": {
      "text/plain": [
       "([<matplotlib.patches.Wedge at 0x1abd4754358>,\n",
       "  <matplotlib.patches.Wedge at 0x1abd4754cf8>,\n",
       "  <matplotlib.patches.Wedge at 0x1abd4760668>],\n",
       " [Text(-1.9536131984598002, -1.0116301057222796, 'Female'),\n",
       "  Text(2.1079553629537306, 0.9200674908910799, 'Male'),\n",
       "  Text(-2.1951727876157734, 0.14565861633008487, 'Other / Non-Disclosed')],\n",
       " [Text(-1.0656071991598908, -0.5517982394848797, '15.2%'),\n",
       "  Text(1.1914530312347171, 0.520038147025393, '82.7%'),\n",
       "  Text(-1.197366975063149, 0.07945015436186446, '2.1%')])"
      ]
     },
     "execution_count": 7,
     "metadata": {},
     "output_type": "execute_result"
    },
    {
     "data": {
      "image/png": "[encoded data removed]",
      "text/plain": [
       "<Figure size 432x288 with 1 Axes>"
      ]
     },
     "metadata": {},
     "output_type": "display_data"
    }
   ],
   "source": [
    "labels=['Female','Male','Other / Non-Disclosed']\n",
    "sizes=total_Purchase_Value[\"Price\"]\n",
    "explode = (0.0,0.1,0)\n",
    "colors = [\"yellow\",\"red\",\"blue\"]\n",
    "plt.pie(sizes, explode=explode, labels=labels, colors=colors,\n",
    "        autopct=\"%1.1f%%\", shadow=True, startangle=180,radius=2)\n"
   ]
  },
  {
   "cell_type": "markdown",
   "metadata": {},
   "source": [
    "## Age Demographics"
   ]
  },
  {
   "cell_type": "markdown",
   "metadata": {},
   "source": [
    "* Establish bins for ages\n",
    "\n",
    "\n",
    "* Categorize the existing players using the age bins. Hint: use pd.cut()\n",
    "\n",
    "\n",
    "* Calculate the numbers and percentages by age group\n",
    "\n",
    "\n",
    "* Create a summary data frame to hold the results\n",
    "\n",
    "\n",
    "* Optional: round the percentage column to two decimal points\n",
    "\n",
    "\n",
    "* Display Age Demographics Table\n"
   ]
  },
  {
   "cell_type": "code",
   "execution_count": 8,
   "metadata": {},
   "outputs": [
    {
     "data": {
      "text/html": [
       "<div>\n",
       "<style scoped>\n",
       "    .dataframe tbody tr th:only-of-type {\n",
       "        vertical-align: middle;\n",
       "    }\n",
       "\n",
       "    .dataframe tbody tr th {\n",
       "        vertical-align: top;\n",
       "    }\n",
       "\n",
       "    .dataframe thead th {\n",
       "        text-align: right;\n",
       "    }\n",
       "</style>\n",
       "<table border=\"1\" class=\"dataframe\">\n",
       "  <thead>\n",
       "    <tr style=\"text-align: right;\">\n",
       "      <th></th>\n",
       "      <th>Total Counts</th>\n",
       "      <th>Percentage of Players</th>\n",
       "    </tr>\n",
       "    <tr>\n",
       "      <th>age bin</th>\n",
       "      <th></th>\n",
       "      <th></th>\n",
       "    </tr>\n",
       "  </thead>\n",
       "  <tbody>\n",
       "    <tr>\n",
       "      <th>&lt;10</th>\n",
       "      <td>17</td>\n",
       "      <td>2.95%</td>\n",
       "    </tr>\n",
       "    <tr>\n",
       "      <th>10-14</th>\n",
       "      <td>22</td>\n",
       "      <td>3.82%</td>\n",
       "    </tr>\n",
       "    <tr>\n",
       "      <th>15-19</th>\n",
       "      <td>107</td>\n",
       "      <td>18.58%</td>\n",
       "    </tr>\n",
       "    <tr>\n",
       "      <th>20-24</th>\n",
       "      <td>258</td>\n",
       "      <td>44.79%</td>\n",
       "    </tr>\n",
       "    <tr>\n",
       "      <th>25-29</th>\n",
       "      <td>77</td>\n",
       "      <td>13.37%</td>\n",
       "    </tr>\n",
       "    <tr>\n",
       "      <th>30-34</th>\n",
       "      <td>52</td>\n",
       "      <td>9.03%</td>\n",
       "    </tr>\n",
       "    <tr>\n",
       "      <th>35-39</th>\n",
       "      <td>31</td>\n",
       "      <td>5.38%</td>\n",
       "    </tr>\n",
       "    <tr>\n",
       "      <th>40+</th>\n",
       "      <td>12</td>\n",
       "      <td>2.08%</td>\n",
       "    </tr>\n",
       "  </tbody>\n",
       "</table>\n",
       "</div>"
      ],
      "text/plain": [
       "         Total Counts Percentage of Players\n",
       "age bin                                    \n",
       "<10                17                 2.95%\n",
       "10-14              22                 3.82%\n",
       "15-19             107                18.58%\n",
       "20-24             258                44.79%\n",
       "25-29              77                13.37%\n",
       "30-34              52                 9.03%\n",
       "35-39              31                 5.38%\n",
       "40+                12                 2.08%"
      ]
     },
     "execution_count": 8,
     "metadata": {},
     "output_type": "execute_result"
    }
   ],
   "source": [
    "# assign bins\n",
    "bins=(0,10,15,20,25,30,35,40,100)\n",
    "purchase_data_by_bin=id_unique_df.copy()\n",
    "purchase_data_by_bin[\"age bin\"]=pd.cut(id_unique_df[\"Age\"],bins,labels=['<10','10-14','15-19','20-24',\n",
    "                                                       '25-29','30-34','35-39','40+'],right=False)\n",
    "data_groupby_age=purchase_data_by_bin.groupby([\"age bin\"])\n",
    "\n",
    "#count bins\n",
    "bin_counts=data_groupby_age[\"SN\"].count()\n",
    "percentage_players=(bin_counts/len(id_unique_df[\"SN\"])).mul(100).round(2).astype(str)+\"%\"\n",
    "\n",
    "#create a dataframe to store\n",
    "age_data=pd.DataFrame({'Total Counts':bin_counts,'Percentage of Players':percentage_players})\n",
    "age_data"
   ]
  },
  {
   "cell_type": "code",
   "execution_count": 9,
   "metadata": {},
   "outputs": [
    {
     "data": {
      "image/png": "[encoded data removed]",
      "text/plain": [
       "<Figure size 432x288 with 1 Axes>"
      ]
     },
     "metadata": {},
     "output_type": "display_data"
    }
   ],
   "source": [
    "ax=sns.barplot(age_data.index,age_data[\"Total Counts\"])\n",
    "ax.set_xticklabels(ax.get_xticklabels(), rotation=40)\n",
    "ax.set_ylim(0,350)\n",
    "plt.tight_layout()\n",
    "plt.yticks(numpy.arange(0, 350, step=50))\n",
    "plt.show()"
   ]
  },
  {
   "cell_type": "code",
   "execution_count": null,
   "metadata": {},
   "outputs": [],
   "source": []
  },
  {
   "cell_type": "markdown",
   "metadata": {},
   "source": [
    "## Purchasing Analysis (Age)"
   ]
  },
  {
   "cell_type": "markdown",
   "metadata": {},
   "source": [
    "* Bin the purchase_data data frame by age\n",
    "\n",
    "\n",
    "* Run basic calculations to obtain purchase count, avg. purchase price, avg. purchase total per person etc. in the table below\n",
    "\n",
    "\n",
    "* Create a summary data frame to hold the results\n",
    "\n",
    "\n",
    "* Optional: give the displayed data cleaner formatting\n",
    "\n",
    "\n",
    "* Display the summary data frame"
   ]
  },
  {
   "cell_type": "code",
   "execution_count": 10,
   "metadata": {},
   "outputs": [
    {
     "data": {
      "text/html": [
       "<div>\n",
       "<style scoped>\n",
       "    .dataframe tbody tr th:only-of-type {\n",
       "        vertical-align: middle;\n",
       "    }\n",
       "\n",
       "    .dataframe tbody tr th {\n",
       "        vertical-align: top;\n",
       "    }\n",
       "\n",
       "    .dataframe thead th {\n",
       "        text-align: right;\n",
       "    }\n",
       "</style>\n",
       "<table border=\"1\" class=\"dataframe\">\n",
       "  <thead>\n",
       "    <tr style=\"text-align: right;\">\n",
       "      <th></th>\n",
       "      <th>Purchase Count</th>\n",
       "      <th>Average Purchase Price</th>\n",
       "      <th>Total Purchase Value</th>\n",
       "      <th>Avg Total Purchase perPerson</th>\n",
       "    </tr>\n",
       "    <tr>\n",
       "      <th>age bin</th>\n",
       "      <th></th>\n",
       "      <th></th>\n",
       "      <th></th>\n",
       "      <th></th>\n",
       "    </tr>\n",
       "  </thead>\n",
       "  <tbody>\n",
       "    <tr>\n",
       "      <th>&lt;10</th>\n",
       "      <td>23</td>\n",
       "      <td>$3.35</td>\n",
       "      <td>$77.13</td>\n",
       "      <td>$4.54</td>\n",
       "    </tr>\n",
       "    <tr>\n",
       "      <th>10-14</th>\n",
       "      <td>28</td>\n",
       "      <td>$2.96</td>\n",
       "      <td>$82.78</td>\n",
       "      <td>$3.76</td>\n",
       "    </tr>\n",
       "    <tr>\n",
       "      <th>15-19</th>\n",
       "      <td>136</td>\n",
       "      <td>$3.04</td>\n",
       "      <td>$412.89</td>\n",
       "      <td>$3.86</td>\n",
       "    </tr>\n",
       "    <tr>\n",
       "      <th>20-24</th>\n",
       "      <td>365</td>\n",
       "      <td>$3.05</td>\n",
       "      <td>$1,114.06</td>\n",
       "      <td>$4.32</td>\n",
       "    </tr>\n",
       "    <tr>\n",
       "      <th>25-29</th>\n",
       "      <td>101</td>\n",
       "      <td>$2.90</td>\n",
       "      <td>$293.00</td>\n",
       "      <td>$3.81</td>\n",
       "    </tr>\n",
       "    <tr>\n",
       "      <th>30-34</th>\n",
       "      <td>73</td>\n",
       "      <td>$2.93</td>\n",
       "      <td>$214.00</td>\n",
       "      <td>$4.12</td>\n",
       "    </tr>\n",
       "    <tr>\n",
       "      <th>35-39</th>\n",
       "      <td>41</td>\n",
       "      <td>$3.60</td>\n",
       "      <td>$147.67</td>\n",
       "      <td>$4.76</td>\n",
       "    </tr>\n",
       "    <tr>\n",
       "      <th>40+</th>\n",
       "      <td>13</td>\n",
       "      <td>$2.94</td>\n",
       "      <td>$38.24</td>\n",
       "      <td>$3.19</td>\n",
       "    </tr>\n",
       "  </tbody>\n",
       "</table>\n",
       "</div>"
      ],
      "text/plain": [
       "         Purchase Count Average Purchase Price Total Purchase Value  \\\n",
       "age bin                                                               \n",
       "<10                  23                  $3.35               $77.13   \n",
       "10-14                28                  $2.96               $82.78   \n",
       "15-19               136                  $3.04              $412.89   \n",
       "20-24               365                  $3.05            $1,114.06   \n",
       "25-29               101                  $2.90              $293.00   \n",
       "30-34                73                  $2.93              $214.00   \n",
       "35-39                41                  $3.60              $147.67   \n",
       "40+                  13                  $2.94               $38.24   \n",
       "\n",
       "        Avg Total Purchase perPerson  \n",
       "age bin                               \n",
       "<10                            $4.54  \n",
       "10-14                          $3.76  \n",
       "15-19                          $3.86  \n",
       "20-24                          $4.32  \n",
       "25-29                          $3.81  \n",
       "30-34                          $4.12  \n",
       "35-39                          $4.76  \n",
       "40+                            $3.19  "
      ]
     },
     "execution_count": 10,
     "metadata": {},
     "output_type": "execute_result"
    }
   ],
   "source": [
    "# assign bins\n",
    "bins=(0,10,15,20,25,30,35,40,100)\n",
    "purchase_data_by_bin=purchase_data.copy()\n",
    "purchase_data_by_bin[\"age bin\"]=pd.cut(purchase_data[\"Age\"],bins,labels=['<10','10-14','15-19','20-24',\n",
    "                                                       '25-29','30-34','35-39','40+'],right=False)\n",
    "data_groupby_age=purchase_data_by_bin.groupby([\"age bin\"])\n",
    "\n",
    "#calculate values\n",
    "bin_purchase_count=data_groupby_age[\"Purchase ID\"].count()\n",
    "bin_ave_purchase_price=data_groupby_age[\"Price\"].mean().round(2)\n",
    "bin_total_purchase_price=data_groupby_age[\"Price\"].sum().round(2)\n",
    "bin_ave_total_purchase_pp=(data_groupby_age[\"Price\"].sum()/age_data[\"Total Counts\"]).round(2)\n",
    "\n",
    "#Create a dataframe to store all above\n",
    "Purchasing_Analysis_age=pd.DataFrame({\"Purchase Count\":bin_purchase_count,\n",
    "                                 \"Average Purchase Price\":bin_ave_purchase_price,\n",
    "                                \"Total Purchase Value\":bin_total_purchase_price,\n",
    "                                 \"Avg Total Purchase perPerson\":bin_ave_total_purchase_pp\n",
    "                                })\n",
    "Purchasing_Analysis_age[\"Average Purchase Price\"]=Purchasing_Analysis_age[\"Average Purchase Price\"].map('${:,.2f}'.format)\n",
    "Purchasing_Analysis_age[\"Total Purchase Value\"]=Purchasing_Analysis_age[\"Total Purchase Value\"].map('${:,.2f}'.format)\n",
    "Purchasing_Analysis_age[\"Avg Total Purchase perPerson\"]=Purchasing_Analysis_age[\"Avg Total Purchase perPerson\"].map('${:,.2f}'.format)\n",
    "Purchasing_Analysis_age"
   ]
  },
  {
   "cell_type": "code",
   "execution_count": 11,
   "metadata": {},
   "outputs": [
    {
     "data": {
      "image/png": "[encoded data removed]",
      "text/plain": [
       "<Figure size 432x288 with 1 Axes>"
      ]
     },
     "metadata": {},
     "output_type": "display_data"
    }
   ],
   "source": [
    "ax1=sns.barplot(Purchasing_Analysis_age.index,bin_total_purchase_price)\n",
    "ax1.set_xticklabels(ax1.get_xticklabels(), rotation=40)\n",
    "ax1.set_ylim(0,1400)\n",
    "plt.ylabel(\"Total Purchase Value\")\n",
    "plt.tight_layout()\n",
    "plt.yticks(numpy.arange(0, 1400, step=200))\n",
    "plt.show()"
   ]
  },
  {
   "cell_type": "code",
   "execution_count": 12,
   "metadata": {},
   "outputs": [
    {
     "data": {
      "image/png": "[encoded data removed]",
      "text/plain": [
       "<Figure size 432x288 with 1 Axes>"
      ]
     },
     "metadata": {},
     "output_type": "display_data"
    }
   ],
   "source": [
    "ax2=sns.barplot(Purchasing_Analysis_age.index,bin_ave_total_purchase_pp)\n",
    "ax2.set_xticklabels(ax2.get_xticklabels(), rotation=40)\n",
    "ax2.set_ylim(0,6)\n",
    "plt.ylabel(\"Avg Total Purchase Per Person\")\n",
    "plt.tight_layout()\n",
    "plt.yticks(numpy.arange(0, 6, step=1))\n",
    "plt.show()"
   ]
  },
  {
   "cell_type": "markdown",
   "metadata": {},
   "source": [
    "## Top Spenders"
   ]
  },
  {
   "cell_type": "markdown",
   "metadata": {},
   "source": [
    "* Run basic calculations to obtain the results in the table below\n",
    "\n",
    "\n",
    "* Create a summary data frame to hold the results\n",
    "\n",
    "\n",
    "* Sort the total purchase value column in descending order\n",
    "\n",
    "\n",
    "* Optional: give the displayed data cleaner formatting\n",
    "\n",
    "\n",
    "* Display a preview of the summary data frame\n",
    "\n"
   ]
  },
  {
   "cell_type": "code",
   "execution_count": 13,
   "metadata": {},
   "outputs": [
    {
     "data": {
      "text/html": [
       "<div>\n",
       "<style scoped>\n",
       "    .dataframe tbody tr th:only-of-type {\n",
       "        vertical-align: middle;\n",
       "    }\n",
       "\n",
       "    .dataframe tbody tr th {\n",
       "        vertical-align: top;\n",
       "    }\n",
       "\n",
       "    .dataframe thead th {\n",
       "        text-align: right;\n",
       "    }\n",
       "</style>\n",
       "<table border=\"1\" class=\"dataframe\">\n",
       "  <thead>\n",
       "    <tr style=\"text-align: right;\">\n",
       "      <th></th>\n",
       "      <th>Purchase Count</th>\n",
       "      <th>Average Purchase Price</th>\n",
       "      <th>Total Purchase Value</th>\n",
       "    </tr>\n",
       "  </thead>\n",
       "  <tbody>\n",
       "    <tr>\n",
       "      <th>Lisosia93</th>\n",
       "      <td>5</td>\n",
       "      <td>$3.79</td>\n",
       "      <td>$18.96</td>\n",
       "    </tr>\n",
       "    <tr>\n",
       "      <th>Idastidru52</th>\n",
       "      <td>4</td>\n",
       "      <td>$3.86</td>\n",
       "      <td>$15.45</td>\n",
       "    </tr>\n",
       "    <tr>\n",
       "      <th>Chamjask73</th>\n",
       "      <td>3</td>\n",
       "      <td>$4.61</td>\n",
       "      <td>$13.83</td>\n",
       "    </tr>\n",
       "    <tr>\n",
       "      <th>Iral74</th>\n",
       "      <td>4</td>\n",
       "      <td>$3.40</td>\n",
       "      <td>$13.62</td>\n",
       "    </tr>\n",
       "    <tr>\n",
       "      <th>Iskadarya95</th>\n",
       "      <td>3</td>\n",
       "      <td>$4.37</td>\n",
       "      <td>$13.10</td>\n",
       "    </tr>\n",
       "  </tbody>\n",
       "</table>\n",
       "</div>"
      ],
      "text/plain": [
       "             Purchase Count Average Purchase Price Total Purchase Value\n",
       "Lisosia93                 5                  $3.79               $18.96\n",
       "Idastidru52               4                  $3.86               $15.45\n",
       "Chamjask73                3                  $4.61               $13.83\n",
       "Iral74                    4                  $3.40               $13.62\n",
       "Iskadarya95               3                  $4.37               $13.10"
      ]
     },
     "execution_count": 13,
     "metadata": {},
     "output_type": "execute_result"
    }
   ],
   "source": [
    "# in order to find top_spender we need to calculate the total spending for indiviuals\n",
    "# aka sort by \"SN\" and add the sum&ave price for all SN\n",
    "\n",
    "spender_data_total=purchase_data.groupby(\"SN\").sum()[\"Price\"].sort_values(ascending=False)\n",
    "\n",
    "# now we can get the purchase count and average price\n",
    "spender_data_ave=purchase_data.groupby(\"SN\").mean()[\"Price\"].sort_values(ascending=False)\n",
    "spender_data_count=purchase_data.groupby(\"SN\").count()[\"Price\"].sort_values(ascending=False)\n",
    "\n",
    "# create a data frame, sort data and format\n",
    "top_spender_data=pd.DataFrame({\"Purchase Count\":spender_data_count,\n",
    "                         \"Average Purchase Price\":spender_data_ave,\n",
    "                         \"Total Purchase Value\":spender_data_total})\n",
    "top_spender_data=top_spender_data.sort_values(by=[\"Total Purchase Value\"],ascending=False)\n",
    "top_spender_data[\"Average Purchase Price\"]=top_spender_data[\"Average Purchase Price\"].map('${:,.2f}'.format)\n",
    "top_spender_data[\"Total Purchase Value\"]=top_spender_data[\"Total Purchase Value\"].map('${:,.2f}'.format)\n",
    "top_spender_data.head()"
   ]
  },
  {
   "cell_type": "code",
   "execution_count": 14,
   "metadata": {},
   "outputs": [
    {
     "data": {
      "text/plain": [
       "0.03149884232509864"
      ]
     },
     "execution_count": 14,
     "metadata": {},
     "output_type": "execute_result"
    }
   ],
   "source": [
    "top_5_total_purchase=spender_data_total.head().sum()\n",
    "top_purchase=spender_data_total.sum()\n",
    "top_5_total_purchase_percent=top_5_total_purchase/top_purchase\n",
    "rest_player=1-top_5_total_purchase\n",
    "top_5_total_purchase_percent\n",
    "#plt.pie(sizes, explode=explode, labels=labels, colors=colors,\n",
    " #       autopct=\"%1.1f%%\", shadow=True, startangle=180,radius=2)"
   ]
  },
  {
   "cell_type": "markdown",
   "metadata": {},
   "source": [
    "## Most Popular Items"
   ]
  },
  {
   "cell_type": "markdown",
   "metadata": {},
   "source": [
    "* Retrieve the Item ID, Item Name, and Item Price columns\n",
    "\n",
    "\n",
    "* Group by Item ID and Item Name. Perform calculations to obtain purchase count, item price, and total purchase value\n",
    "\n",
    "\n",
    "* Create a summary data frame to hold the results\n",
    "\n",
    "\n",
    "* Sort the purchase count column in descending order\n",
    "\n",
    "\n",
    "* Optional: give the displayed data cleaner formatting\n",
    "\n",
    "\n",
    "* Display a preview of the summary data frame\n",
    "\n"
   ]
  },
  {
   "cell_type": "code",
   "execution_count": 15,
   "metadata": {},
   "outputs": [
    {
     "data": {
      "text/html": [
       "<div>\n",
       "<style scoped>\n",
       "    .dataframe tbody tr th:only-of-type {\n",
       "        vertical-align: middle;\n",
       "    }\n",
       "\n",
       "    .dataframe tbody tr th {\n",
       "        vertical-align: top;\n",
       "    }\n",
       "\n",
       "    .dataframe thead th {\n",
       "        text-align: right;\n",
       "    }\n",
       "</style>\n",
       "<table border=\"1\" class=\"dataframe\">\n",
       "  <thead>\n",
       "    <tr style=\"text-align: right;\">\n",
       "      <th></th>\n",
       "      <th></th>\n",
       "      <th>Purchase Count</th>\n",
       "      <th>Item Price</th>\n",
       "      <th>Total Purchase Value</th>\n",
       "    </tr>\n",
       "    <tr>\n",
       "      <th>Item ID</th>\n",
       "      <th>Item Name</th>\n",
       "      <th></th>\n",
       "      <th></th>\n",
       "      <th></th>\n",
       "    </tr>\n",
       "  </thead>\n",
       "  <tbody>\n",
       "    <tr>\n",
       "      <th>178</th>\n",
       "      <th>Oathbreaker, Last Hope of the Breaking Storm</th>\n",
       "      <td>12</td>\n",
       "      <td>$4.23</td>\n",
       "      <td>$50.76</td>\n",
       "    </tr>\n",
       "    <tr>\n",
       "      <th>145</th>\n",
       "      <th>Fiery Glass Crusader</th>\n",
       "      <td>9</td>\n",
       "      <td>$4.58</td>\n",
       "      <td>$41.22</td>\n",
       "    </tr>\n",
       "    <tr>\n",
       "      <th>108</th>\n",
       "      <th>Extraction, Quickblade Of Trembling Hands</th>\n",
       "      <td>9</td>\n",
       "      <td>$3.53</td>\n",
       "      <td>$31.77</td>\n",
       "    </tr>\n",
       "    <tr>\n",
       "      <th>82</th>\n",
       "      <th>Nirvana</th>\n",
       "      <td>9</td>\n",
       "      <td>$4.90</td>\n",
       "      <td>$44.10</td>\n",
       "    </tr>\n",
       "    <tr>\n",
       "      <th>19</th>\n",
       "      <th>Pursuit, Cudgel of Necromancy</th>\n",
       "      <td>8</td>\n",
       "      <td>$1.02</td>\n",
       "      <td>$8.16</td>\n",
       "    </tr>\n",
       "  </tbody>\n",
       "</table>\n",
       "</div>"
      ],
      "text/plain": [
       "                                                      Purchase Count  \\\n",
       "Item ID Item Name                                                      \n",
       "178     Oathbreaker, Last Hope of the Breaking Storm              12   \n",
       "145     Fiery Glass Crusader                                       9   \n",
       "108     Extraction, Quickblade Of Trembling Hands                  9   \n",
       "82      Nirvana                                                    9   \n",
       "19      Pursuit, Cudgel of Necromancy                              8   \n",
       "\n",
       "                                                     Item Price  \\\n",
       "Item ID Item Name                                                 \n",
       "178     Oathbreaker, Last Hope of the Breaking Storm      $4.23   \n",
       "145     Fiery Glass Crusader                              $4.58   \n",
       "108     Extraction, Quickblade Of Trembling Hands         $3.53   \n",
       "82      Nirvana                                           $4.90   \n",
       "19      Pursuit, Cudgel of Necromancy                     $1.02   \n",
       "\n",
       "                                                     Total Purchase Value  \n",
       "Item ID Item Name                                                          \n",
       "178     Oathbreaker, Last Hope of the Breaking Storm               $50.76  \n",
       "145     Fiery Glass Crusader                                       $41.22  \n",
       "108     Extraction, Quickblade Of Trembling Hands                  $31.77  \n",
       "82      Nirvana                                                    $44.10  \n",
       "19      Pursuit, Cudgel of Necromancy                               $8.16  "
      ]
     },
     "execution_count": 15,
     "metadata": {},
     "output_type": "execute_result"
    }
   ],
   "source": [
    "# simliar to above, this cell I use \"item Name\" to groupby\n",
    "\n",
    "item_data_total=purchase_data.groupby([\"Item ID\",\"Item Name\"]).sum()[\"Price\"].sort_values(ascending=False)\n",
    "#item_data_total=purchase_data.groupby(\"Item Name\").sum()[\"Price\"].sort_values(ascending=False)\n",
    "item_data_count=purchase_data.groupby([\"Item ID\",\"Item Name\"]).count()[\"Price\"].sort_values(ascending=False)\n",
    "#item_data_count=purchase_data.groupby(\"Item Name\").count()[\"Price\"].sort_values(ascending=False)\n",
    "item_data_mean=purchase_data.groupby([\"Item ID\",\"Item Name\"]).mean()[\"Price\"].sort_values(ascending=False)\n",
    "#item_data_mean=purchase_data.groupby(\"Item Name\"]).mean()[\"Price\"].sort_values(ascending=False)\n",
    "\n",
    "\n",
    "item_data=pd.DataFrame({\"Purchase Count\":item_data_count,\n",
    "                         \"Item Price\":item_data_mean,\n",
    "                         \"Total Purchase Value\":item_data_total})\n",
    "item_data_sort=item_data.sort_values(by=[\"Purchase Count\"],ascending=False)\n",
    "item_data_sort[\"Item Price\"]=item_data_sort[\"Item Price\"].map('${:,.2f}'.format)\n",
    "item_data_sort[\"Total Purchase Value\"]=item_data_sort[\"Total Purchase Value\"].map('${:,.2f}'.format)\n",
    "popular_items=item_data_sort.head()\n",
    "popular_items\n",
    "#item_data_total"
   ]
  },
  {
   "cell_type": "code",
   "execution_count": 16,
   "metadata": {},
   "outputs": [
    {
     "data": {
      "image/png": "[encoded data removed]",
      "text/plain": [
       "<Figure size 432x288 with 1 Axes>"
      ]
     },
     "metadata": {},
     "output_type": "display_data"
    }
   ],
   "source": [
    "sns.scatterplot(x=item_data_mean, y=item_data_count);\n",
    "plt.ylabel(\"Purchase Count\")\n",
    "plt.xlabel(\"Item Price\")\n",
    "plt.show()\n"
   ]
  },
  {
   "cell_type": "markdown",
   "metadata": {},
   "source": [
    "## Most Profitable Items"
   ]
  },
  {
   "cell_type": "markdown",
   "metadata": {},
   "source": [
    "* Sort the above table by total purchase value in descending order\n",
    "\n",
    "\n",
    "* Optional: give the displayed data cleaner formatting\n",
    "\n",
    "\n",
    "* Display a preview of the data frame\n",
    "\n"
   ]
  },
  {
   "cell_type": "code",
   "execution_count": 17,
   "metadata": {
    "scrolled": true
   },
   "outputs": [
    {
     "data": {
      "text/html": [
       "<div>\n",
       "<style scoped>\n",
       "    .dataframe tbody tr th:only-of-type {\n",
       "        vertical-align: middle;\n",
       "    }\n",
       "\n",
       "    .dataframe tbody tr th {\n",
       "        vertical-align: top;\n",
       "    }\n",
       "\n",
       "    .dataframe thead th {\n",
       "        text-align: right;\n",
       "    }\n",
       "</style>\n",
       "<table border=\"1\" class=\"dataframe\">\n",
       "  <thead>\n",
       "    <tr style=\"text-align: right;\">\n",
       "      <th></th>\n",
       "      <th></th>\n",
       "      <th>Purchase Count</th>\n",
       "      <th>Item Price</th>\n",
       "      <th>Total Purchase Value</th>\n",
       "    </tr>\n",
       "    <tr>\n",
       "      <th>Item ID</th>\n",
       "      <th>Item Name</th>\n",
       "      <th></th>\n",
       "      <th></th>\n",
       "      <th></th>\n",
       "    </tr>\n",
       "  </thead>\n",
       "  <tbody>\n",
       "    <tr>\n",
       "      <th>178</th>\n",
       "      <th>Oathbreaker, Last Hope of the Breaking Storm</th>\n",
       "      <td>12</td>\n",
       "      <td>$4.23</td>\n",
       "      <td>$50.76</td>\n",
       "    </tr>\n",
       "    <tr>\n",
       "      <th>82</th>\n",
       "      <th>Nirvana</th>\n",
       "      <td>9</td>\n",
       "      <td>$4.90</td>\n",
       "      <td>$44.10</td>\n",
       "    </tr>\n",
       "    <tr>\n",
       "      <th>145</th>\n",
       "      <th>Fiery Glass Crusader</th>\n",
       "      <td>9</td>\n",
       "      <td>$4.58</td>\n",
       "      <td>$41.22</td>\n",
       "    </tr>\n",
       "    <tr>\n",
       "      <th>92</th>\n",
       "      <th>Final Critic</th>\n",
       "      <td>8</td>\n",
       "      <td>$4.88</td>\n",
       "      <td>$39.04</td>\n",
       "    </tr>\n",
       "    <tr>\n",
       "      <th>103</th>\n",
       "      <th>Singed Scalpel</th>\n",
       "      <td>8</td>\n",
       "      <td>$4.35</td>\n",
       "      <td>$34.80</td>\n",
       "    </tr>\n",
       "  </tbody>\n",
       "</table>\n",
       "</div>"
      ],
      "text/plain": [
       "                                                      Purchase Count  \\\n",
       "Item ID Item Name                                                      \n",
       "178     Oathbreaker, Last Hope of the Breaking Storm              12   \n",
       "82      Nirvana                                                    9   \n",
       "145     Fiery Glass Crusader                                       9   \n",
       "92      Final Critic                                               8   \n",
       "103     Singed Scalpel                                             8   \n",
       "\n",
       "                                                     Item Price  \\\n",
       "Item ID Item Name                                                 \n",
       "178     Oathbreaker, Last Hope of the Breaking Storm      $4.23   \n",
       "82      Nirvana                                           $4.90   \n",
       "145     Fiery Glass Crusader                              $4.58   \n",
       "92      Final Critic                                      $4.88   \n",
       "103     Singed Scalpel                                    $4.35   \n",
       "\n",
       "                                                     Total Purchase Value  \n",
       "Item ID Item Name                                                          \n",
       "178     Oathbreaker, Last Hope of the Breaking Storm               $50.76  \n",
       "82      Nirvana                                                    $44.10  \n",
       "145     Fiery Glass Crusader                                       $41.22  \n",
       "92      Final Critic                                               $39.04  \n",
       "103     Singed Scalpel                                             $34.80  "
      ]
     },
     "execution_count": 17,
     "metadata": {},
     "output_type": "execute_result"
    }
   ],
   "source": [
    "profitable_items=item_data.sort_values(by=[\"Total Purchase Value\"],ascending=False)\n",
    "profitable_items[\"Item Price\"]=profitable_items[\"Item Price\"].map('${:,.2f}'.format)\n",
    "profitable_items[\"Total Purchase Value\"]=profitable_items[\"Total Purchase Value\"].map('${:,.2f}'.format)\n",
    "profitable_items.head()\n"
   ]
  },
  {
   "cell_type": "code",
   "execution_count": 43,
   "metadata": {},
   "outputs": [
    {
     "data": {
      "image/png": "[encoded data removed]",
      "text/plain": [
       "<Figure size 432x288 with 1 Axes>"
      ]
     },
     "metadata": {},
     "output_type": "display_data"
    }
   ],
   "source": [
    "sns.scatterplot(y=item_data_total, x=item_data_mean);\n",
    "plt.xlabel(\"Item Price\")\n",
    "plt.ylabel(\"Total Purchase Value\")\n",
    "plt.show()\n",
    "\n",
    "#we can see there is some linear relationship between item price and total purchase value"
   ]
  },
  {
   "cell_type": "code",
   "execution_count": 33,
   "metadata": {},
   "outputs": [
    {
     "data": {
      "text/plain": [
       "array([16.05587108, -3.46017085])"
      ]
     },
     "execution_count": 33,
     "metadata": {},
     "output_type": "execute_result"
    }
   ],
   "source": [
    "x=item_data_mean\n",
    "y=item_data_total\n",
    "numpy.polyfit(numpy.log(x), y, 1)"
   ]
  },
  {
   "cell_type": "code",
   "execution_count": 31,
   "metadata": {},
   "outputs": [
    {
     "data": {
      "text/plain": [
       "array([16.05587108, -3.46017085])"
      ]
     },
     "execution_count": 31,
     "metadata": {},
     "output_type": "execute_result"
    }
   ],
   "source": [
    "y=16.055-3.46log(x)"
   ]
  },
  {
   "cell_type": "code",
   "execution_count": 19,
   "metadata": {},
   "outputs": [],
   "source": [
    "#now let use linear regression to make predictions\n",
    "df_x=pd.DataFrame(item_data_mean)\n",
    "df_y=pd.DataFrame(item_data_total)\n",
    "reg=linear_model.LinearRegression()\n"
   ]
  },
  {
   "cell_type": "code",
   "execution_count": 20,
   "metadata": {},
   "outputs": [],
   "source": [
    "x_train,x_test,y_train,y_test=train_test_split(df_x,df_y,test_size=0.2,random_state=2)"
   ]
  },
  {
   "cell_type": "code",
   "execution_count": 21,
   "metadata": {},
   "outputs": [
    {
     "data": {
      "text/plain": [
       "LinearRegression(copy_X=True, fit_intercept=True, n_jobs=None, normalize=False)"
      ]
     },
     "execution_count": 21,
     "metadata": {},
     "output_type": "execute_result"
    }
   ],
   "source": [
    "reg.fit(x_train,y_train)"
   ]
  },
  {
   "cell_type": "code",
   "execution_count": 22,
   "metadata": {},
   "outputs": [
    {
     "data": {
      "text/plain": [
       "array([[6.1800985]])"
      ]
     },
     "execution_count": 22,
     "metadata": {},
     "output_type": "execute_result"
    }
   ],
   "source": [
    "reg.coef_"
   ]
  },
  {
   "cell_type": "code",
   "execution_count": 23,
   "metadata": {},
   "outputs": [],
   "source": [
    "predict_price=reg.predict(x_test)"
   ]
  },
  {
   "cell_type": "code",
   "execution_count": 24,
   "metadata": {},
   "outputs": [
    {
     "data": {
      "text/plain": [
       "array([20.12614314])"
      ]
     },
     "execution_count": 24,
     "metadata": {},
     "output_type": "execute_result"
    }
   ],
   "source": [
    "predict_price[5]"
   ]
  },
  {
   "cell_type": "code",
   "execution_count": 42,
   "metadata": {},
   "outputs": [
    {
     "name": "stderr",
     "output_type": "stream",
     "text": [
      "C:\\Users\\16478\\Anaconda3\\lib\\site-packages\\ipykernel_launcher.py:1: SettingWithCopyWarning: \n",
      "A value is trying to be set on a copy of a slice from a DataFrame.\n",
      "Try using .loc[row_indexer,col_indexer] = value instead\n",
      "\n",
      "See the caveats in the documentation: http://pandas.pydata.org/pandas-docs/stable/indexing.html#indexing-view-versus-copy\n",
      "  \"\"\"Entry point for launching an IPython kernel.\n"
     ]
    },
    {
     "data": {
      "text/html": [
       "<div>\n",
       "<style scoped>\n",
       "    .dataframe tbody tr th:only-of-type {\n",
       "        vertical-align: middle;\n",
       "    }\n",
       "\n",
       "    .dataframe tbody tr th {\n",
       "        vertical-align: top;\n",
       "    }\n",
       "\n",
       "    .dataframe thead th {\n",
       "        text-align: right;\n",
       "    }\n",
       "</style>\n",
       "<table border=\"1\" class=\"dataframe\">\n",
       "  <thead>\n",
       "    <tr style=\"text-align: right;\">\n",
       "      <th></th>\n",
       "      <th></th>\n",
       "      <th>total purchase value</th>\n",
       "      <th>Predicted total purchase value</th>\n",
       "      <th>predicted price</th>\n",
       "    </tr>\n",
       "    <tr>\n",
       "      <th>Item ID</th>\n",
       "      <th>Item Name</th>\n",
       "      <th></th>\n",
       "      <th></th>\n",
       "      <th></th>\n",
       "    </tr>\n",
       "  </thead>\n",
       "  <tbody>\n",
       "    <tr>\n",
       "      <th>108</th>\n",
       "      <th>Extraction, Quickblade Of Trembling Hands</th>\n",
       "      <td>31.77</td>\n",
       "      <td>24.205008</td>\n",
       "      <td>24.205008</td>\n",
       "    </tr>\n",
       "    <tr>\n",
       "      <th>48</th>\n",
       "      <th>Rage, Legacy of the Lone Victor</th>\n",
       "      <td>4.96</td>\n",
       "      <td>4.243290</td>\n",
       "      <td>4.243290</td>\n",
       "    </tr>\n",
       "    <tr>\n",
       "      <th>173</th>\n",
       "      <th>Stormfury Longsword</th>\n",
       "      <td>9.86</td>\n",
       "      <td>10.485189</td>\n",
       "      <td>10.485189</td>\n",
       "    </tr>\n",
       "    <tr>\n",
       "      <th>86</th>\n",
       "      <th>Stormfury Lantern</th>\n",
       "      <td>6.81</td>\n",
       "      <td>6.282722</td>\n",
       "      <td>6.282722</td>\n",
       "    </tr>\n",
       "    <tr>\n",
       "      <th>25</th>\n",
       "      <th>Hero Cane</th>\n",
       "      <td>26.10</td>\n",
       "      <td>23.401595</td>\n",
       "      <td>23.401595</td>\n",
       "    </tr>\n",
       "    <tr>\n",
       "      <th>120</th>\n",
       "      <th>Agatha</th>\n",
       "      <td>18.48</td>\n",
       "      <td>20.126143</td>\n",
       "      <td>20.126143</td>\n",
       "    </tr>\n",
       "    <tr>\n",
       "      <th>70</th>\n",
       "      <th>Hope's End</th>\n",
       "      <td>4.12</td>\n",
       "      <td>2.883668</td>\n",
       "      <td>2.883668</td>\n",
       "    </tr>\n",
       "    <tr>\n",
       "      <th>92</th>\n",
       "      <th>Final Critic</th>\n",
       "      <td>39.04</td>\n",
       "      <td>24.452212</td>\n",
       "      <td>24.452212</td>\n",
       "    </tr>\n",
       "    <tr>\n",
       "      <th>17</th>\n",
       "      <th>Lazarus, Terror of the Earth</th>\n",
       "      <td>6.80</td>\n",
       "      <td>6.220922</td>\n",
       "      <td>6.220922</td>\n",
       "    </tr>\n",
       "    <tr>\n",
       "      <th>80</th>\n",
       "      <th>Dreamsong</th>\n",
       "      <td>16.95</td>\n",
       "      <td>19.013725</td>\n",
       "      <td>19.013725</td>\n",
       "    </tr>\n",
       "    <tr>\n",
       "      <th>58</th>\n",
       "      <th>Freak's Bite, Favor of Holy Might</th>\n",
       "      <td>16.56</td>\n",
       "      <td>18.704720</td>\n",
       "      <td>18.704720</td>\n",
       "    </tr>\n",
       "    <tr>\n",
       "      <th>0</th>\n",
       "      <th>Splinter</th>\n",
       "      <td>5.12</td>\n",
       "      <td>4.490494</td>\n",
       "      <td>4.490494</td>\n",
       "    </tr>\n",
       "    <tr>\n",
       "      <th>175</th>\n",
       "      <th>Woeful Adamantite Claymore</th>\n",
       "      <td>13.44</td>\n",
       "      <td>14.996661</td>\n",
       "      <td>14.996661</td>\n",
       "    </tr>\n",
       "    <tr>\n",
       "      <th>52</th>\n",
       "      <th>Hatred</th>\n",
       "      <td>19.36</td>\n",
       "      <td>21.176760</td>\n",
       "      <td>21.176760</td>\n",
       "    </tr>\n",
       "    <tr>\n",
       "      <th>135</th>\n",
       "      <th>Warped Diamond Crusader</th>\n",
       "      <td>4.20</td>\n",
       "      <td>3.563479</td>\n",
       "      <td>3.563479</td>\n",
       "    </tr>\n",
       "    <tr>\n",
       "      <th>39</th>\n",
       "      <th>Betrayal, Whisper of Grieving Widows</th>\n",
       "      <td>19.70</td>\n",
       "      <td>21.362163</td>\n",
       "      <td>21.362163</td>\n",
       "    </tr>\n",
       "    <tr>\n",
       "      <th>134</th>\n",
       "      <th>Undead Crusader</th>\n",
       "      <td>4.50</td>\n",
       "      <td>3.872484</td>\n",
       "      <td>3.872484</td>\n",
       "    </tr>\n",
       "    <tr>\n",
       "      <th>37</th>\n",
       "      <th>Shadow Strike, Glory of Ending Hope</th>\n",
       "      <td>25.28</td>\n",
       "      <td>23.339794</td>\n",
       "      <td>23.339794</td>\n",
       "    </tr>\n",
       "    <tr>\n",
       "      <th>71</th>\n",
       "      <th>Demise</th>\n",
       "      <td>11.27</td>\n",
       "      <td>12.277418</td>\n",
       "      <td>12.277418</td>\n",
       "    </tr>\n",
       "    <tr>\n",
       "      <th>66</th>\n",
       "      <th>Victor Iron Spikes</th>\n",
       "      <td>17.60</td>\n",
       "      <td>19.569934</td>\n",
       "      <td>19.569934</td>\n",
       "    </tr>\n",
       "    <tr>\n",
       "      <th>177</th>\n",
       "      <th>Winterthorn, Defender of Shifting Worlds</th>\n",
       "      <td>4.16</td>\n",
       "      <td>3.130872</td>\n",
       "      <td>3.130872</td>\n",
       "    </tr>\n",
       "    <tr>\n",
       "      <th>102</th>\n",
       "      <th>Avenger</th>\n",
       "      <td>20.64</td>\n",
       "      <td>21.671168</td>\n",
       "      <td>21.671168</td>\n",
       "    </tr>\n",
       "    <tr>\n",
       "      <th>179</th>\n",
       "      <th>Wolf, Promise of the Moonwalker</th>\n",
       "      <td>26.88</td>\n",
       "      <td>23.772401</td>\n",
       "      <td>23.772401</td>\n",
       "    </tr>\n",
       "    <tr>\n",
       "      <th>105</th>\n",
       "      <th>Hailstorm Shadowsteel Scythe</th>\n",
       "      <td>12.12</td>\n",
       "      <td>13.513438</td>\n",
       "      <td>13.513438</td>\n",
       "    </tr>\n",
       "    <tr>\n",
       "      <th>145</th>\n",
       "      <th>Fiery Glass Crusader</th>\n",
       "      <td>41.22</td>\n",
       "      <td>24.452212</td>\n",
       "      <td>24.452212</td>\n",
       "    </tr>\n",
       "    <tr>\n",
       "      <th>97</th>\n",
       "      <th>Swan Song, Gouger Of Terror</th>\n",
       "      <td>7.50</td>\n",
       "      <td>7.456941</td>\n",
       "      <td>7.456941</td>\n",
       "    </tr>\n",
       "    <tr>\n",
       "      <th>74</th>\n",
       "      <th>Yearning Crusher</th>\n",
       "      <td>12.54</td>\n",
       "      <td>14.193249</td>\n",
       "      <td>14.193249</td>\n",
       "    </tr>\n",
       "    <tr>\n",
       "      <th>18</th>\n",
       "      <th>Torchlight, Bond of Storms</th>\n",
       "      <td>9.30</td>\n",
       "      <td>9.434573</td>\n",
       "      <td>9.434573</td>\n",
       "    </tr>\n",
       "    <tr>\n",
       "      <th>166</th>\n",
       "      <th>Thirsty Iron Reaver</th>\n",
       "      <td>9.21</td>\n",
       "      <td>9.372772</td>\n",
       "      <td>9.372772</td>\n",
       "    </tr>\n",
       "    <tr>\n",
       "      <th>40</th>\n",
       "      <th>Second Chance</th>\n",
       "      <td>15.12</td>\n",
       "      <td>17.406900</td>\n",
       "      <td>17.406900</td>\n",
       "    </tr>\n",
       "    <tr>\n",
       "      <th>170</th>\n",
       "      <th>Shadowsteel</th>\n",
       "      <td>15.88</td>\n",
       "      <td>17.777706</td>\n",
       "      <td>17.777706</td>\n",
       "    </tr>\n",
       "    <tr>\n",
       "      <th>31</th>\n",
       "      <th>Trickster</th>\n",
       "      <td>3.10</td>\n",
       "      <td>1.894853</td>\n",
       "      <td>1.894853</td>\n",
       "    </tr>\n",
       "    <tr>\n",
       "      <th>98</th>\n",
       "      <th>Deadline, Voice Of Subtlety</th>\n",
       "      <td>14.45</td>\n",
       "      <td>16.109079</td>\n",
       "      <td>16.109079</td>\n",
       "    </tr>\n",
       "    <tr>\n",
       "      <th>59</th>\n",
       "      <th>Lightning, Etcher of the King</th>\n",
       "      <td>33.84</td>\n",
       "      <td>24.266809</td>\n",
       "      <td>24.266809</td>\n",
       "    </tr>\n",
       "    <tr>\n",
       "      <th>140</th>\n",
       "      <th>Striker</th>\n",
       "      <td>14.70</td>\n",
       "      <td>16.294482</td>\n",
       "      <td>16.294482</td>\n",
       "    </tr>\n",
       "    <tr>\n",
       "      <th>160</th>\n",
       "      <th>Azurewrath</th>\n",
       "      <td>26.40</td>\n",
       "      <td>23.648799</td>\n",
       "      <td>23.648799</td>\n",
       "    </tr>\n",
       "    <tr>\n",
       "      <th>133</th>\n",
       "      <th>Faith's Scimitar</th>\n",
       "      <td>20.45</td>\n",
       "      <td>21.671168</td>\n",
       "      <td>21.671168</td>\n",
       "    </tr>\n",
       "  </tbody>\n",
       "</table>\n",
       "</div>"
      ],
      "text/plain": [
       "                                                   total purchase value  \\\n",
       "Item ID Item Name                                                         \n",
       "108     Extraction, Quickblade Of Trembling Hands                 31.77   \n",
       "48      Rage, Legacy of the Lone Victor                            4.96   \n",
       "173     Stormfury Longsword                                        9.86   \n",
       "86      Stormfury Lantern                                          6.81   \n",
       "25      Hero Cane                                                 26.10   \n",
       "120     Agatha                                                    18.48   \n",
       "70      Hope's End                                                 4.12   \n",
       "92      Final Critic                                              39.04   \n",
       "17      Lazarus, Terror of the Earth                               6.80   \n",
       "80      Dreamsong                                                 16.95   \n",
       "58      Freak's Bite, Favor of Holy Might                         16.56   \n",
       "0       Splinter                                                   5.12   \n",
       "175     Woeful Adamantite Claymore                                13.44   \n",
       "52      Hatred                                                    19.36   \n",
       "135     Warped Diamond Crusader                                    4.20   \n",
       "39      Betrayal, Whisper of Grieving Widows                      19.70   \n",
       "134     Undead Crusader                                            4.50   \n",
       "37      Shadow Strike, Glory of Ending Hope                       25.28   \n",
       "71      Demise                                                    11.27   \n",
       "66      Victor Iron Spikes                                        17.60   \n",
       "177     Winterthorn, Defender of Shifting Worlds                   4.16   \n",
       "102     Avenger                                                   20.64   \n",
       "179     Wolf, Promise of the Moonwalker                           26.88   \n",
       "105     Hailstorm Shadowsteel Scythe                              12.12   \n",
       "145     Fiery Glass Crusader                                      41.22   \n",
       "97      Swan Song, Gouger Of Terror                                7.50   \n",
       "74      Yearning Crusher                                          12.54   \n",
       "18      Torchlight, Bond of Storms                                 9.30   \n",
       "166     Thirsty Iron Reaver                                        9.21   \n",
       "40      Second Chance                                             15.12   \n",
       "170     Shadowsteel                                               15.88   \n",
       "31      Trickster                                                  3.10   \n",
       "98      Deadline, Voice Of Subtlety                               14.45   \n",
       "59      Lightning, Etcher of the King                             33.84   \n",
       "140     Striker                                                   14.70   \n",
       "160     Azurewrath                                                26.40   \n",
       "133     Faith's Scimitar                                          20.45   \n",
       "\n",
       "                                                   Predicted total purchase value  \\\n",
       "Item ID Item Name                                                                   \n",
       "108     Extraction, Quickblade Of Trembling Hands                       24.205008   \n",
       "48      Rage, Legacy of the Lone Victor                                  4.243290   \n",
       "173     Stormfury Longsword                                             10.485189   \n",
       "86      Stormfury Lantern                                                6.282722   \n",
       "25      Hero Cane                                                       23.401595   \n",
       "120     Agatha                                                          20.126143   \n",
       "70      Hope's End                                                       2.883668   \n",
       "92      Final Critic                                                    24.452212   \n",
       "17      Lazarus, Terror of the Earth                                     6.220922   \n",
       "80      Dreamsong                                                       19.013725   \n",
       "58      Freak's Bite, Favor of Holy Might                               18.704720   \n",
       "0       Splinter                                                         4.490494   \n",
       "175     Woeful Adamantite Claymore                                      14.996661   \n",
       "52      Hatred                                                          21.176760   \n",
       "135     Warped Diamond Crusader                                          3.563479   \n",
       "39      Betrayal, Whisper of Grieving Widows                            21.362163   \n",
       "134     Undead Crusader                                                  3.872484   \n",
       "37      Shadow Strike, Glory of Ending Hope                             23.339794   \n",
       "71      Demise                                                          12.277418   \n",
       "66      Victor Iron Spikes                                              19.569934   \n",
       "177     Winterthorn, Defender of Shifting Worlds                         3.130872   \n",
       "102     Avenger                                                         21.671168   \n",
       "179     Wolf, Promise of the Moonwalker                                 23.772401   \n",
       "105     Hailstorm Shadowsteel Scythe                                    13.513438   \n",
       "145     Fiery Glass Crusader                                            24.452212   \n",
       "97      Swan Song, Gouger Of Terror                                      7.456941   \n",
       "74      Yearning Crusher                                                14.193249   \n",
       "18      Torchlight, Bond of Storms                                       9.434573   \n",
       "166     Thirsty Iron Reaver                                              9.372772   \n",
       "40      Second Chance                                                   17.406900   \n",
       "170     Shadowsteel                                                     17.777706   \n",
       "31      Trickster                                                        1.894853   \n",
       "98      Deadline, Voice Of Subtlety                                     16.109079   \n",
       "59      Lightning, Etcher of the King                                   24.266809   \n",
       "140     Striker                                                         16.294482   \n",
       "160     Azurewrath                                                      23.648799   \n",
       "133     Faith's Scimitar                                                21.671168   \n",
       "\n",
       "                                                   predicted price  \n",
       "Item ID Item Name                                                   \n",
       "108     Extraction, Quickblade Of Trembling Hands        24.205008  \n",
       "48      Rage, Legacy of the Lone Victor                   4.243290  \n",
       "173     Stormfury Longsword                              10.485189  \n",
       "86      Stormfury Lantern                                 6.282722  \n",
       "25      Hero Cane                                        23.401595  \n",
       "120     Agatha                                           20.126143  \n",
       "70      Hope's End                                        2.883668  \n",
       "92      Final Critic                                     24.452212  \n",
       "17      Lazarus, Terror of the Earth                      6.220922  \n",
       "80      Dreamsong                                        19.013725  \n",
       "58      Freak's Bite, Favor of Holy Might                18.704720  \n",
       "0       Splinter                                          4.490494  \n",
       "175     Woeful Adamantite Claymore                       14.996661  \n",
       "52      Hatred                                           21.176760  \n",
       "135     Warped Diamond Crusader                           3.563479  \n",
       "39      Betrayal, Whisper of Grieving Widows             21.362163  \n",
       "134     Undead Crusader                                   3.872484  \n",
       "37      Shadow Strike, Glory of Ending Hope              23.339794  \n",
       "71      Demise                                           12.277418  \n",
       "66      Victor Iron Spikes                               19.569934  \n",
       "177     Winterthorn, Defender of Shifting Worlds          3.130872  \n",
       "102     Avenger                                          21.671168  \n",
       "179     Wolf, Promise of the Moonwalker                  23.772401  \n",
       "105     Hailstorm Shadowsteel Scythe                     13.513438  \n",
       "145     Fiery Glass Crusader                             24.452212  \n",
       "97      Swan Song, Gouger Of Terror                       7.456941  \n",
       "74      Yearning Crusher                                 14.193249  \n",
       "18      Torchlight, Bond of Storms                        9.434573  \n",
       "166     Thirsty Iron Reaver                               9.372772  \n",
       "40      Second Chance                                    17.406900  \n",
       "170     Shadowsteel                                      17.777706  \n",
       "31      Trickster                                         1.894853  \n",
       "98      Deadline, Voice Of Subtlety                      16.109079  \n",
       "59      Lightning, Etcher of the King                    24.266809  \n",
       "140     Striker                                          16.294482  \n",
       "160     Azurewrath                                       23.648799  \n",
       "133     Faith's Scimitar                                 21.671168  "
      ]
     },
     "execution_count": 42,
     "metadata": {},
     "output_type": "execute_result"
    }
   ],
   "source": [
    "y_test[\"predicted price\"]=predict_price\n",
    "y_test"
   ]
  },
  {
   "cell_type": "code",
   "execution_count": 26,
   "metadata": {},
   "outputs": [
    {
     "name": "stderr",
     "output_type": "stream",
     "text": [
      "C:\\Users\\16478\\Anaconda3\\lib\\site-packages\\pandas\\core\\frame.py:4025: SettingWithCopyWarning: \n",
      "A value is trying to be set on a copy of a slice from a DataFrame\n",
      "\n",
      "See the caveats in the documentation: http://pandas.pydata.org/pandas-docs/stable/indexing.html#indexing-view-versus-copy\n",
      "  return super(DataFrame, self).rename(**kwargs)\n"
     ]
    },
    {
     "ename": "KeyError",
     "evalue": "'Purchase Counts'",
     "output_type": "error",
     "traceback": [
      "\u001b[1;31m---------------------------------------------------------------------------\u001b[0m",
      "\u001b[1;31mKeyError\u001b[0m                                  Traceback (most recent call last)",
      "\u001b[1;32m~\\Anaconda3\\lib\\site-packages\\pandas\\core\\indexes\\base.py\u001b[0m in \u001b[0;36mget_loc\u001b[1;34m(self, key, method, tolerance)\u001b[0m\n\u001b[0;32m   2656\u001b[0m             \u001b[1;32mtry\u001b[0m\u001b[1;33m:\u001b[0m\u001b[1;33m\u001b[0m\u001b[1;33m\u001b[0m\u001b[0m\n\u001b[1;32m-> 2657\u001b[1;33m                 \u001b[1;32mreturn\u001b[0m \u001b[0mself\u001b[0m\u001b[1;33m.\u001b[0m\u001b[0m_engine\u001b[0m\u001b[1;33m.\u001b[0m\u001b[0mget_loc\u001b[0m\u001b[1;33m(\u001b[0m\u001b[0mkey\u001b[0m\u001b[1;33m)\u001b[0m\u001b[1;33m\u001b[0m\u001b[1;33m\u001b[0m\u001b[0m\n\u001b[0m\u001b[0;32m   2658\u001b[0m             \u001b[1;32mexcept\u001b[0m \u001b[0mKeyError\u001b[0m\u001b[1;33m:\u001b[0m\u001b[1;33m\u001b[0m\u001b[1;33m\u001b[0m\u001b[0m\n",
      "\u001b[1;32mpandas/_libs/index.pyx\u001b[0m in \u001b[0;36mpandas._libs.index.IndexEngine.get_loc\u001b[1;34m()\u001b[0m\n",
      "\u001b[1;32mpandas/_libs/index.pyx\u001b[0m in \u001b[0;36mpandas._libs.index.IndexEngine.get_loc\u001b[1;34m()\u001b[0m\n",
      "\u001b[1;32mpandas/_libs/hashtable_class_helper.pxi\u001b[0m in \u001b[0;36mpandas._libs.hashtable.PyObjectHashTable.get_item\u001b[1;34m()\u001b[0m\n",
      "\u001b[1;32mpandas/_libs/hashtable_class_helper.pxi\u001b[0m in \u001b[0;36mpandas._libs.hashtable.PyObjectHashTable.get_item\u001b[1;34m()\u001b[0m\n",
      "\u001b[1;31mKeyError\u001b[0m: 'Purchase Counts'",
      "\nDuring handling of the above exception, another exception occurred:\n",
      "\u001b[1;31mKeyError\u001b[0m                                  Traceback (most recent call last)",
      "\u001b[1;32m<ipython-input-26-5eefae86b3dc>\u001b[0m in \u001b[0;36m<module>\u001b[1;34m\u001b[0m\n\u001b[0;32m      1\u001b[0m y_test.rename(columns={\"Price\":\"total purchase value\",\n\u001b[0;32m      2\u001b[0m                        \"predicted price\":\"Predicted total purchase value\"},inplace=True)\n\u001b[1;32m----> 3\u001b[1;33m \u001b[0my_test\u001b[0m\u001b[1;33m[\u001b[0m\u001b[1;34m\"Price\"\u001b[0m\u001b[1;33m]\u001b[0m\u001b[1;33m=\u001b[0m\u001b[0mpopular_items\u001b[0m\u001b[1;33m.\u001b[0m\u001b[0mlookup\u001b[0m\u001b[1;33m(\u001b[0m\u001b[0mpopular_items\u001b[0m\u001b[1;33m.\u001b[0m\u001b[0mindex\u001b[0m\u001b[1;33m,\u001b[0m\u001b[0mpopular_items\u001b[0m\u001b[1;33m[\u001b[0m\u001b[1;34m\"Purchase Counts\"\u001b[0m\u001b[1;33m]\u001b[0m\u001b[1;33m)\u001b[0m\u001b[1;33m\u001b[0m\u001b[1;33m\u001b[0m\u001b[0m\n\u001b[0m\u001b[0;32m      4\u001b[0m \u001b[0my_test\u001b[0m\u001b[1;33m\u001b[0m\u001b[1;33m\u001b[0m\u001b[0m\n",
      "\u001b[1;32m~\\Anaconda3\\lib\\site-packages\\pandas\\core\\frame.py\u001b[0m in \u001b[0;36m__getitem__\u001b[1;34m(self, key)\u001b[0m\n\u001b[0;32m   2925\u001b[0m             \u001b[1;32mif\u001b[0m \u001b[0mself\u001b[0m\u001b[1;33m.\u001b[0m\u001b[0mcolumns\u001b[0m\u001b[1;33m.\u001b[0m\u001b[0mnlevels\u001b[0m \u001b[1;33m>\u001b[0m \u001b[1;36m1\u001b[0m\u001b[1;33m:\u001b[0m\u001b[1;33m\u001b[0m\u001b[1;33m\u001b[0m\u001b[0m\n\u001b[0;32m   2926\u001b[0m                 \u001b[1;32mreturn\u001b[0m \u001b[0mself\u001b[0m\u001b[1;33m.\u001b[0m\u001b[0m_getitem_multilevel\u001b[0m\u001b[1;33m(\u001b[0m\u001b[0mkey\u001b[0m\u001b[1;33m)\u001b[0m\u001b[1;33m\u001b[0m\u001b[1;33m\u001b[0m\u001b[0m\n\u001b[1;32m-> 2927\u001b[1;33m             \u001b[0mindexer\u001b[0m \u001b[1;33m=\u001b[0m \u001b[0mself\u001b[0m\u001b[1;33m.\u001b[0m\u001b[0mcolumns\u001b[0m\u001b[1;33m.\u001b[0m\u001b[0mget_loc\u001b[0m\u001b[1;33m(\u001b[0m\u001b[0mkey\u001b[0m\u001b[1;33m)\u001b[0m\u001b[1;33m\u001b[0m\u001b[1;33m\u001b[0m\u001b[0m\n\u001b[0m\u001b[0;32m   2928\u001b[0m             \u001b[1;32mif\u001b[0m \u001b[0mis_integer\u001b[0m\u001b[1;33m(\u001b[0m\u001b[0mindexer\u001b[0m\u001b[1;33m)\u001b[0m\u001b[1;33m:\u001b[0m\u001b[1;33m\u001b[0m\u001b[1;33m\u001b[0m\u001b[0m\n\u001b[0;32m   2929\u001b[0m                 \u001b[0mindexer\u001b[0m \u001b[1;33m=\u001b[0m \u001b[1;33m[\u001b[0m\u001b[0mindexer\u001b[0m\u001b[1;33m]\u001b[0m\u001b[1;33m\u001b[0m\u001b[1;33m\u001b[0m\u001b[0m\n",
      "\u001b[1;32m~\\Anaconda3\\lib\\site-packages\\pandas\\core\\indexes\\base.py\u001b[0m in \u001b[0;36mget_loc\u001b[1;34m(self, key, method, tolerance)\u001b[0m\n\u001b[0;32m   2657\u001b[0m                 \u001b[1;32mreturn\u001b[0m \u001b[0mself\u001b[0m\u001b[1;33m.\u001b[0m\u001b[0m_engine\u001b[0m\u001b[1;33m.\u001b[0m\u001b[0mget_loc\u001b[0m\u001b[1;33m(\u001b[0m\u001b[0mkey\u001b[0m\u001b[1;33m)\u001b[0m\u001b[1;33m\u001b[0m\u001b[1;33m\u001b[0m\u001b[0m\n\u001b[0;32m   2658\u001b[0m             \u001b[1;32mexcept\u001b[0m \u001b[0mKeyError\u001b[0m\u001b[1;33m:\u001b[0m\u001b[1;33m\u001b[0m\u001b[1;33m\u001b[0m\u001b[0m\n\u001b[1;32m-> 2659\u001b[1;33m                 \u001b[1;32mreturn\u001b[0m \u001b[0mself\u001b[0m\u001b[1;33m.\u001b[0m\u001b[0m_engine\u001b[0m\u001b[1;33m.\u001b[0m\u001b[0mget_loc\u001b[0m\u001b[1;33m(\u001b[0m\u001b[0mself\u001b[0m\u001b[1;33m.\u001b[0m\u001b[0m_maybe_cast_indexer\u001b[0m\u001b[1;33m(\u001b[0m\u001b[0mkey\u001b[0m\u001b[1;33m)\u001b[0m\u001b[1;33m)\u001b[0m\u001b[1;33m\u001b[0m\u001b[1;33m\u001b[0m\u001b[0m\n\u001b[0m\u001b[0;32m   2660\u001b[0m         \u001b[0mindexer\u001b[0m \u001b[1;33m=\u001b[0m \u001b[0mself\u001b[0m\u001b[1;33m.\u001b[0m\u001b[0mget_indexer\u001b[0m\u001b[1;33m(\u001b[0m\u001b[1;33m[\u001b[0m\u001b[0mkey\u001b[0m\u001b[1;33m]\u001b[0m\u001b[1;33m,\u001b[0m \u001b[0mmethod\u001b[0m\u001b[1;33m=\u001b[0m\u001b[0mmethod\u001b[0m\u001b[1;33m,\u001b[0m \u001b[0mtolerance\u001b[0m\u001b[1;33m=\u001b[0m\u001b[0mtolerance\u001b[0m\u001b[1;33m)\u001b[0m\u001b[1;33m\u001b[0m\u001b[1;33m\u001b[0m\u001b[0m\n\u001b[0;32m   2661\u001b[0m         \u001b[1;32mif\u001b[0m \u001b[0mindexer\u001b[0m\u001b[1;33m.\u001b[0m\u001b[0mndim\u001b[0m \u001b[1;33m>\u001b[0m \u001b[1;36m1\u001b[0m \u001b[1;32mor\u001b[0m \u001b[0mindexer\u001b[0m\u001b[1;33m.\u001b[0m\u001b[0msize\u001b[0m \u001b[1;33m>\u001b[0m \u001b[1;36m1\u001b[0m\u001b[1;33m:\u001b[0m\u001b[1;33m\u001b[0m\u001b[1;33m\u001b[0m\u001b[0m\n",
      "\u001b[1;32mpandas/_libs/index.pyx\u001b[0m in \u001b[0;36mpandas._libs.index.IndexEngine.get_loc\u001b[1;34m()\u001b[0m\n",
      "\u001b[1;32mpandas/_libs/index.pyx\u001b[0m in \u001b[0;36mpandas._libs.index.IndexEngine.get_loc\u001b[1;34m()\u001b[0m\n",
      "\u001b[1;32mpandas/_libs/hashtable_class_helper.pxi\u001b[0m in \u001b[0;36mpandas._libs.hashtable.PyObjectHashTable.get_item\u001b[1;34m()\u001b[0m\n",
      "\u001b[1;32mpandas/_libs/hashtable_class_helper.pxi\u001b[0m in \u001b[0;36mpandas._libs.hashtable.PyObjectHashTable.get_item\u001b[1;34m()\u001b[0m\n",
      "\u001b[1;31mKeyError\u001b[0m: 'Purchase Counts'"
     ]
    }
   ],
   "source": [
    "y_test.rename(columns={\"Price\":\"total purchase value\",\n",
    "                       \"predicted price\":\"Predicted total purchase value\"},inplace=True)\n",
    "y_test[\"Price\"]=popular_items.lookup(popular_items.index,popular_items[\"Purchase Counts\"])\n",
    "y_test"
   ]
  },
  {
   "cell_type": "code",
   "execution_count": null,
   "metadata": {},
   "outputs": [],
   "source": [
    "\n"
   ]
  }
 ],
 "metadata": {
  "anaconda-cloud": {},
  "kernel_info": {
   "name": "python3"
  },
  "kernelspec": {
   "display_name": "Python 3",
   "language": "python",
   "name": "python3"
  },
  "language_info": {
   "codemirror_mode": {
    "name": "ipython",
    "version": 3
   },
   "file_extension": ".py",
   "mimetype": "text/x-python",
   "name": "python",
   "nbconvert_exporter": "python",
   "pygments_lexer": "ipython3",
   "version": "3.7.3"
  },
  "latex_envs": {
   "LaTeX_envs_menu_present": true,
   "autoclose": false,
   "autocomplete": true,
   "bibliofile": "biblio.bib",
   "cite_by": "apalike",
   "current_citInitial": 1,
   "eqLabelWithNumbers": true,
   "eqNumInitial": 1,
   "hotkeys": {
    "equation": "Ctrl-E",
    "itemize": "Ctrl-I"
   },
   "labels_anchors": false,
   "latex_user_defs": false,
   "report_style_numbering": false,
   "user_envs_cfg": false
  },
  "nteract": {
   "version": "0.2.0"
  }
 },
 "nbformat": 4,
 "nbformat_minor": 2
}
